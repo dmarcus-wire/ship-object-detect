{
 "cells": [
  {
   "cell_type": "markdown",
   "metadata": {},
   "source": [
    "# Satellite Imagery Object Detection\n",
    "\n",
    "*This notebook assumes Kubeflow 1.2 was installed on Red Hat OpenShift 4.6 and is running a tf-notebook-image-v0.7.0.*\n",
    "\n",
    "Satellite accessibility has generated an amount of data that has outgrown the ability to manually and heuristically extract value. Automating analysis using Machines Learning framework and models offers incredible accuracy, speed and value across numerous use cases. \n",
    "\n",
    "This notebook was inspired by a Kaggle competition and updated with new libraries and toolkits that further extend it's development and prediction. \n",
    "\n",
    "The model utilizes a supervised learning approach with a Keras sequential model that can run on CPUs (and even better on GPUs). Keras is an open-source deep learning library written in Python. tf.keras is a submodule inside of TensowFlow 2.0. TensorFlow deep learning library (TensorFlow 2) that integrated the Keras API directly. Overall, it is a simple list of layers; limited to a single input, single output layer stack. It includes 4000 80x80 RGB images labeled with either a \"ship\" or \"no-ship\" classification. Image chips were derived from PlanetScope full-frame visual scene products, which are orthorectified to a 3 meter pixel size.\n",
    "\n",
    "Concretely, this notebook adheres to a common ML Lifecycle:\n",
    "\n",
    "1. Define the Problem.\n",
    "1. Identify the Solution.\n",
    "1. Load and Prepare Data.\n",
    "1. Create the Model.\n",
    "1. Train the Model.\n",
    "1. Deploy the Model. \n",
    "1. Infere and Observe.\n",
    "\n",
    "Dataset: https://www.kaggle.com/rhammell/ships-in-satellite-imagery"
   ]
  },
  {
   "cell_type": "markdown",
   "metadata": {},
   "source": [
    "## Define the Problem: Satellite Imagery Ship Detection\n",
    "\n",
    "We need an automated and efficient way to identify ships and their location in route satellite imagery updates from the Panama Canal. Solution success will be based upon accuracy of ship identification in N satellite images and expanded to other to naval areas of interests."
   ]
  },
  {
   "cell_type": "markdown",
   "metadata": {},
   "source": [
    "## Define the Solution: Deep Learning\n",
    "\n",
    "Under Deep Learning, Object detection algorithms are a method of recognizing objects in images or video in Computer Vision, and implemented in fields from self-driving cars, facial recognition, and disease detection systems. The model is tasked with localizing the objects present in an image, and at the same time, classifying them into different categories. Learn more at [Object Detection with RetinaNet](https://keras.io/examples/vision/retinanet/). "
   ]
  },
  {
   "cell_type": "markdown",
   "metadata": {},
   "source": [
    "### Notebook Setup\n",
    "\n",
    "Often time, the image that the Jupyter Notebook was created from doesn't include all of the tools, libraries, versions and dependencies a Data Engineer and/or Data Scientists needs to do their work. Installs, imports and upgrades get a containerized notebook to a state that encapsulated, repeatable, and portable."
   ]
  },
  {
   "cell_type": "code",
   "execution_count": 42,
   "metadata": {},
   "outputs": [
    {
     "name": "stdout",
     "output_type": "stream",
     "text": [
      "WARNING: pip is being invoked by an old script wrapper. This will fail in a future version of pip.\n",
      "Please see https://github.com/pypa/pip/issues/5599 for advice on fixing the underlying issue.\n",
      "To avoid this problem you can invoke Python with '-m pip' instead of running pip directly.\n",
      "Requirement already satisfied: pip in ./.local/lib/python3.6/site-packages (21.0.1)\n",
      "WARNING: pip is being invoked by an old script wrapper. This will fail in a future version of pip.\n",
      "Please see https://github.com/pypa/pip/issues/5599 for advice on fixing the underlying issue.\n",
      "To avoid this problem you can invoke Python with '-m pip' instead of running pip directly.\n",
      "Defaulting to user installation because normal site-packages is not writeable\n",
      "Requirement already satisfied: tensorflow==2.3.0 in ./.local/lib/python3.6/site-packages (2.3.0)\n",
      "Requirement already satisfied: google-pasta>=0.1.8 in ./.local/lib/python3.6/site-packages (from tensorflow==2.3.0) (0.2.0)\n",
      "Requirement already satisfied: protobuf>=3.9.2 in ./.local/lib/python3.6/site-packages (from tensorflow==2.3.0) (3.15.8)\n",
      "Requirement already satisfied: grpcio>=1.8.6 in ./.local/lib/python3.6/site-packages (from tensorflow==2.3.0) (1.37.0)\n",
      "Requirement already satisfied: h5py<2.11.0,>=2.10.0 in ./.local/lib/python3.6/site-packages (from tensorflow==2.3.0) (2.10.0)\n",
      "Requirement already satisfied: absl-py>=0.7.0 in /usr/local/lib/python3.6/dist-packages (from tensorflow==2.3.0) (0.7.1)\n",
      "Requirement already satisfied: gast==0.3.3 in ./.local/lib/python3.6/site-packages (from tensorflow==2.3.0) (0.3.3)\n",
      "Requirement already satisfied: keras-preprocessing<1.2,>=1.1.1 in ./.local/lib/python3.6/site-packages (from tensorflow==2.3.0) (1.1.2)\n",
      "Requirement already satisfied: wrapt>=1.11.1 in ./.local/lib/python3.6/site-packages (from tensorflow==2.3.0) (1.12.1)\n",
      "Requirement already satisfied: astunparse==1.6.3 in ./.local/lib/python3.6/site-packages (from tensorflow==2.3.0) (1.6.3)\n",
      "Requirement already satisfied: tensorboard<3,>=2.3.0 in ./.local/lib/python3.6/site-packages (from tensorflow==2.3.0) (2.4.1)\n",
      "Requirement already satisfied: wheel>=0.26 in /usr/lib/python3/dist-packages (from tensorflow==2.3.0) (0.30.0)\n",
      "Requirement already satisfied: numpy<1.19.0,>=1.16.0 in /usr/local/lib/python3.6/dist-packages (from tensorflow==2.3.0) (1.16.4)\n",
      "Requirement already satisfied: opt-einsum>=2.3.2 in ./.local/lib/python3.6/site-packages (from tensorflow==2.3.0) (3.3.0)\n",
      "Requirement already satisfied: six>=1.12.0 in ./.local/lib/python3.6/site-packages (from tensorflow==2.3.0) (1.15.0)\n",
      "Requirement already satisfied: termcolor>=1.1.0 in /usr/local/lib/python3.6/dist-packages (from tensorflow==2.3.0) (1.1.0)\n",
      "Requirement already satisfied: tensorflow-estimator<2.4.0,>=2.3.0 in ./.local/lib/python3.6/site-packages (from tensorflow==2.3.0) (2.3.0)\n",
      "Requirement already satisfied: scipy==1.4.1 in ./.local/lib/python3.6/site-packages (from tensorflow==2.3.0) (1.4.1)\n",
      "Requirement already satisfied: google-auth<2,>=1.6.3 in /usr/local/lib/python3.6/dist-packages (from tensorboard<3,>=2.3.0->tensorflow==2.3.0) (1.7.2)\n",
      "Requirement already satisfied: setuptools>=41.0.0 in /usr/local/lib/python3.6/dist-packages (from tensorboard<3,>=2.3.0->tensorflow==2.3.0) (41.0.1)\n",
      "Requirement already satisfied: werkzeug>=0.11.15 in /usr/local/lib/python3.6/dist-packages (from tensorboard<3,>=2.3.0->tensorflow==2.3.0) (0.15.4)\n",
      "Requirement already satisfied: tensorboard-plugin-wit>=1.6.0 in ./.local/lib/python3.6/site-packages (from tensorboard<3,>=2.3.0->tensorflow==2.3.0) (1.8.0)\n",
      "Requirement already satisfied: requests<3,>=2.21.0 in /usr/local/lib/python3.6/dist-packages (from tensorboard<3,>=2.3.0->tensorflow==2.3.0) (2.22.0)\n",
      "Requirement already satisfied: google-auth-oauthlib<0.5,>=0.4.1 in ./.local/lib/python3.6/site-packages (from tensorboard<3,>=2.3.0->tensorflow==2.3.0) (0.4.4)\n",
      "Requirement already satisfied: markdown>=2.6.8 in /usr/local/lib/python3.6/dist-packages (from tensorboard<3,>=2.3.0->tensorflow==2.3.0) (3.1.1)\n",
      "Requirement already satisfied: rsa<4.1,>=3.1.4 in /usr/local/lib/python3.6/dist-packages (from google-auth<2,>=1.6.3->tensorboard<3,>=2.3.0->tensorflow==2.3.0) (4.0)\n",
      "Requirement already satisfied: pyasn1-modules>=0.2.1 in /usr/local/lib/python3.6/dist-packages (from google-auth<2,>=1.6.3->tensorboard<3,>=2.3.0->tensorflow==2.3.0) (0.2.7)\n",
      "Requirement already satisfied: cachetools<3.2,>=2.0.0 in /usr/local/lib/python3.6/dist-packages (from google-auth<2,>=1.6.3->tensorboard<3,>=2.3.0->tensorflow==2.3.0) (3.1.1)\n",
      "Requirement already satisfied: requests-oauthlib>=0.7.0 in /usr/local/lib/python3.6/dist-packages (from google-auth-oauthlib<0.5,>=0.4.1->tensorboard<3,>=2.3.0->tensorflow==2.3.0) (1.3.0)\n",
      "Requirement already satisfied: pyasn1<0.5.0,>=0.4.6 in /usr/local/lib/python3.6/dist-packages (from pyasn1-modules>=0.2.1->google-auth<2,>=1.6.3->tensorboard<3,>=2.3.0->tensorflow==2.3.0) (0.4.8)\n",
      "Requirement already satisfied: certifi>=2017.4.17 in /usr/local/lib/python3.6/dist-packages (from requests<3,>=2.21.0->tensorboard<3,>=2.3.0->tensorflow==2.3.0) (2019.11.28)\n",
      "Requirement already satisfied: chardet<3.1.0,>=3.0.2 in /usr/local/lib/python3.6/dist-packages (from requests<3,>=2.21.0->tensorboard<3,>=2.3.0->tensorflow==2.3.0) (3.0.4)\n",
      "Requirement already satisfied: idna<2.9,>=2.5 in /usr/lib/python3/dist-packages (from requests<3,>=2.21.0->tensorboard<3,>=2.3.0->tensorflow==2.3.0) (2.6)\n",
      "Requirement already satisfied: urllib3!=1.25.0,!=1.25.1,<1.26,>=1.21.1 in /usr/local/lib/python3.6/dist-packages (from requests<3,>=2.21.0->tensorboard<3,>=2.3.0->tensorflow==2.3.0) (1.25.7)\n",
      "Requirement already satisfied: oauthlib>=3.0.0 in /usr/local/lib/python3.6/dist-packages (from requests-oauthlib>=0.7.0->google-auth-oauthlib<0.5,>=0.4.1->tensorboard<3,>=2.3.0->tensorflow==2.3.0) (3.1.0)\n",
      "WARNING: pip is being invoked by an old script wrapper. This will fail in a future version of pip.\n",
      "Please see https://github.com/pypa/pip/issues/5599 for advice on fixing the underlying issue.\n",
      "To avoid this problem you can invoke Python with '-m pip' instead of running pip directly.\n",
      "Defaulting to user installation because normal site-packages is not writeable\n",
      "Requirement already satisfied: keras in ./.local/lib/python3.6/site-packages (2.4.3)\n",
      "Requirement already satisfied: numpy>=1.9.1 in /usr/local/lib/python3.6/dist-packages (from keras) (1.16.4)\n",
      "Requirement already satisfied: scipy>=0.14 in ./.local/lib/python3.6/site-packages (from keras) (1.4.1)\n",
      "Requirement already satisfied: h5py in ./.local/lib/python3.6/site-packages (from keras) (2.10.0)\n",
      "Requirement already satisfied: pyyaml in /usr/local/lib/python3.6/dist-packages (from keras) (5.2)\n",
      "Requirement already satisfied: six in ./.local/lib/python3.6/site-packages (from h5py->keras) (1.15.0)\n",
      "WARNING: pip is being invoked by an old script wrapper. This will fail in a future version of pip.\n",
      "Please see https://github.com/pypa/pip/issues/5599 for advice on fixing the underlying issue.\n",
      "To avoid this problem you can invoke Python with '-m pip' instead of running pip directly.\n",
      "Defaulting to user installation because normal site-packages is not writeable\n",
      "Requirement already satisfied: patool in ./.local/lib/python3.6/site-packages (1.12)\n",
      "WARNING: pip is being invoked by an old script wrapper. This will fail in a future version of pip.\n",
      "Please see https://github.com/pypa/pip/issues/5599 for advice on fixing the underlying issue.\n",
      "To avoid this problem you can invoke Python with '-m pip' instead of running pip directly.\n",
      "Defaulting to user installation because normal site-packages is not writeable\n",
      "Collecting pandas\n",
      "  Downloading pandas-1.1.5-cp36-cp36m-manylinux1_x86_64.whl (9.5 MB)\n",
      "\u001b[K     |████████████████████████████████| 9.5 MB 34.7 MB/s eta 0:00:01\n",
      "\u001b[?25hRequirement already satisfied: numpy>=1.15.4 in /usr/local/lib/python3.6/dist-packages (from pandas) (1.16.4)\n",
      "Requirement already satisfied: python-dateutil>=2.7.3 in /usr/local/lib/python3.6/dist-packages (from pandas) (2.8.0)\n",
      "Requirement already satisfied: pytz>=2017.2 in /usr/local/lib/python3.6/dist-packages (from pandas) (2019.3)\n",
      "Requirement already satisfied: six>=1.5 in ./.local/lib/python3.6/site-packages (from python-dateutil>=2.7.3->pandas) (1.15.0)\n",
      "Installing collected packages: pandas\n",
      "Successfully installed pandas-1.1.5\n",
      "WARNING: pip is being invoked by an old script wrapper. This will fail in a future version of pip.\n",
      "Please see https://github.com/pypa/pip/issues/5599 for advice on fixing the underlying issue.\n",
      "To avoid this problem you can invoke Python with '-m pip' instead of running pip directly.\n",
      "Defaulting to user installation because normal site-packages is not writeable\n",
      "Requirement already satisfied: matplotlib in /usr/local/lib/python3.6/dist-packages (3.1.1)\n",
      "Requirement already satisfied: python-dateutil>=2.1 in /usr/local/lib/python3.6/dist-packages (from matplotlib) (2.8.0)\n",
      "Requirement already satisfied: kiwisolver>=1.0.1 in /usr/local/lib/python3.6/dist-packages (from matplotlib) (1.1.0)\n",
      "Requirement already satisfied: numpy>=1.11 in /usr/local/lib/python3.6/dist-packages (from matplotlib) (1.16.4)\n",
      "Requirement already satisfied: cycler>=0.10 in /usr/local/lib/python3.6/dist-packages (from matplotlib) (0.10.0)\n",
      "Requirement already satisfied: pyparsing!=2.0.4,!=2.1.2,!=2.1.6,>=2.0.1 in /usr/local/lib/python3.6/dist-packages (from matplotlib) (2.4.0)\n",
      "Requirement already satisfied: six in ./.local/lib/python3.6/site-packages (from cycler>=0.10->matplotlib) (1.15.0)\n",
      "Requirement already satisfied: setuptools in /usr/local/lib/python3.6/dist-packages (from kiwisolver>=1.0.1->matplotlib) (41.0.1)\n",
      "WARNING: pip is being invoked by an old script wrapper. This will fail in a future version of pip.\n",
      "Please see https://github.com/pypa/pip/issues/5599 for advice on fixing the underlying issue.\n",
      "To avoid this problem you can invoke Python with '-m pip' instead of running pip directly.\n",
      "Defaulting to user installation because normal site-packages is not writeable\n",
      "Requirement already satisfied: Pillow in ./.local/lib/python3.6/site-packages (8.2.0)\n",
      "2.3.0\n",
      "2.4.3\n",
      "Setup complete.\n"
     ]
    }
   ],
   "source": [
    "### Install necessary software and libraries\n",
    "# Upgrade pip\n",
    "!pip install --upgrade pip --no-warn-script-location --user\n",
    "# TF is out of date on the default notebook, upgrade to TF2 in the notebook. --no-warn-script-location to supress warning messages\n",
    "!pip3 install tensorflow==2.3.0 --no-warn-script-location\n",
    "# TF2 includes Keras, upgrading pulls in new libraries and algorithms\n",
    "!pip3 install keras --no-warn-script-location\n",
    "# Python archiver that enables inflating the dataset from xz and other formats\n",
    "!pip install patool --no-warn-script-location\n",
    "# Pythong library for data engineering\n",
    "!pip3 install pandas\n",
    "# Python library for static, animated and interactive data visualizations\n",
    "!pip install matplotlib --no-warn-script-location\n",
    "# Python imaging library adding image processing \n",
    "!pip install Pillow --no-warn-script-location\n",
    "\n",
    "# TensorFlow2\n",
    "import tensorflow as tf\n",
    "\n",
    "# Keras\n",
    "from tensorflow import keras\n",
    "from keras.models import Sequential\n",
    "from keras.layers import Dense, Flatten, Activation\n",
    "from keras.layers import Dropout\n",
    "from keras.layers.convolutional import Conv2D, MaxPooling2D\n",
    "from keras.utils import np_utils\n",
    "from keras.optimizers import SGD\n",
    "import keras.callbacks\n",
    "\n",
    "# Compress/Decompress Files\n",
    "import patoolib\n",
    "\n",
    "# Python module path to check if files exists\n",
    "import os.path\n",
    "\n",
    "# Pandas library for Data Analysis and Manipulation\n",
    "import pandas as pd\n",
    "\n",
    "# Pillow\n",
    "from PIL import Image, ImageDraw \n",
    "\n",
    "# Linear Algebra\n",
    "import numpy as np\n",
    "\n",
    "# Data visualizations within the notebook\n",
    "from matplotlib import pyplot as plt\n",
    "\n",
    "# Offers classes representing filesystem paths with semantics appropriate for different operating systems.\n",
    "import pathlib\n",
    "\n",
    "# System-specific parameters and functions\n",
    "import sys\n",
    "\n",
    "# pseudo-random number generators for various distros\n",
    "import random\n",
    "\n",
    "# Python provides a built-in module called json for serializing and deserializing objects.\n",
    "import json\n",
    "\n",
    "print(tf.__version__)\n",
    "print(keras.__version__)\n",
    "\n",
    "print('Setup complete.')"
   ]
  },
  {
   "cell_type": "code",
   "execution_count": 9,
   "metadata": {},
   "outputs": [],
   "source": [
    "# Create a requirements.txt aside from uploading a jupyter image\n",
    "# pip freeze > requirements.txt"
   ]
  },
  {
   "cell_type": "code",
   "execution_count": null,
   "metadata": {},
   "outputs": [],
   "source": [
    "# Check if GPUs are available \n",
    "# No output or empty brackets == no GPU\n",
    "tf.config.list_physical_devices('GPU')"
   ]
  },
  {
   "cell_type": "markdown",
   "metadata": {},
   "source": [
    "## Load and Prepare the Data\n",
    "\n",
    "TensorFlow 2 now incorporates the Keras API, which is a deep learning framework. [Keras includes known datasets](https://www.tensorflow.org/api_docs/python/tf/keras/datasets) by default that can be imported for exploring data science methods. \n",
    "\n",
    "The dataset used is available from Kaggle, [\"Ships in Satellite Imagery\"](https://www.kaggle.com/rhammell/ships-in-satellite-imagery), which is a great place to find datasets and other AI resources. Kaggle also hosts competitions, which are an exciting way to get involved in the community."
   ]
  },
  {
   "cell_type": "markdown",
   "metadata": {},
   "source": [
    "### Download the dataset\n",
    "\n",
    "The Kaggle dataset was downloaded as an archive.zip file, compressed with a bzip2 and uploaded to a github for demonstration purposes"
   ]
  },
  {
   "cell_type": "code",
   "execution_count": 45,
   "metadata": {},
   "outputs": [
    {
     "name": "stdout",
     "output_type": "stream",
     "text": [
      "File Exists.\n"
     ]
    }
   ],
   "source": [
    "# This cell check if the file exists or not using the is.path module before downloading and extracting\n",
    "# If the file doesn't exists in the working path, it performs a wget\n",
    "# -nc parameter is a no clobber that skips the download if the file exists\n",
    "# raw=true removes the github HTML wrapper\n",
    "# patool lib supports various compression formats. https://pypi.org/project/patool/ http://wummel.github.io/patool/\n",
    "# prints a message for the logical action\n",
    "checkFile = \"../../dataset/shipsnet.json.bz2\"\n",
    "\n",
    "if os.path.isfile(checkFile):\n",
    "    print(\"File Exists.\")\n",
    "else:\n",
    "    !wget -nc --no-check-certificate https://github.com/dmarcus-wire/satellite-ship-detection/blob/master/dataset/shipsnet.json.bz2?raw=true -O ../../dataset/shipsnet.json.bz2\n",
    "    print(\"File Imported.\")"
   ]
  },
  {
   "cell_type": "code",
   "execution_count": null,
   "metadata": {},
   "outputs": [],
   "source": [
    "checkFile = \"../../dataset/shipsnet.json\"\n",
    "\n",
    "if os.path.isfile(checkFile):\n",
    "    print(\"Data Exists.\")\n",
    "else:\n",
    "    patoolib.extract_archive(\"../../dataset/shipsnet.json.bz2\",outdir=\"../../dataset/\")\n",
    "    print(\"Data Extracted.\")"
   ]
  },
  {
   "cell_type": "markdown",
   "metadata": {},
   "source": [
    "### Explore the data\n",
    "\n",
    "The dataset consists of image chips extracted from Planet satellite imagery collected over the San Francisco Bay and San Pedro Bay areas of California. It includes 4000 80x80 RGB images labeled with either a \"ship\" or \"no-ship\" classification. Image chips were derived from PlanetScope full-frame visual scene products, which are orthorectified to a 3 meter pixel size."
   ]
  },
  {
   "cell_type": "code",
   "execution_count": 43,
   "metadata": {},
   "outputs": [
    {
     "name": "stdout",
     "output_type": "stream",
     "text": [
      "                                                   data  labels  \\\n",
      "0     [82, 89, 91, 87, 89, 87, 86, 86, 86, 86, 84, 8...       1   \n",
      "1     [76, 75, 67, 62, 68, 72, 73, 73, 68, 69, 69, 6...       1   \n",
      "2     [125, 127, 129, 130, 126, 125, 129, 133, 132, ...       1   \n",
      "3     [102, 99, 113, 106, 96, 102, 105, 105, 103, 10...       1   \n",
      "4     [78, 76, 74, 78, 79, 79, 79, 82, 86, 85, 83, 8...       1   \n",
      "...                                                 ...     ...   \n",
      "3995  [126, 122, 124, 138, 165, 186, 195, 199, 203, ...       0   \n",
      "3996  [130, 134, 139, 128, 117, 126, 141, 147, 142, ...       0   \n",
      "3997  [171, 135, 118, 140, 145, 144, 154, 165, 139, ...       0   \n",
      "3998  [85, 90, 94, 95, 94, 92, 93, 96, 93, 94, 94, 9...       0   \n",
      "3999  [122, 122, 126, 126, 142, 153, 174, 190, 185, ...       0   \n",
      "\n",
      "                                      locations             scene_ids  \n",
      "0       [-118.2254694333423, 33.73803725920789]  20180708_180909_0f47  \n",
      "1       [-122.33222866289329, 37.7491755586813]  20170705_180816_103e  \n",
      "2     [-118.14283073363218, 33.736016066914175]  20180712_211331_0f06  \n",
      "3      [-122.34784341495181, 37.76648707436548]  20170609_180756_103a  \n",
      "4      [-122.34852408322172, 37.75878462398653]  20170515_180653_1007  \n",
      "...                                         ...                   ...  \n",
      "3995   [-122.08693255500694, 37.77781408256089]  20170815_180821_102d  \n",
      "3996   [-122.10549691828378, 37.76946626247702]  20170730_191230_0f21  \n",
      "3997  [-122.48298739296371, 37.684929808845375]  20161116_180804_0e14  \n",
      "3998   [-122.29028216570079, 37.71632091139081]  20170211_181116_0e16  \n",
      "3999  [-122.49531387721586, 37.698557210117706]  20180206_184438_1043  \n",
      "\n",
      "[4000 rows x 4 columns]\n"
     ]
    }
   ],
   "source": [
    "# pandas is an open source, BSD-licensed library providing high-performance, easy-to-use data structures and data analysis tools for the Python programming language.\n",
    "\n",
    "data = pd.read_json('../../dataset/shipsnet.json')\n",
    "print(data)"
   ]
  },
  {
   "cell_type": "code",
   "execution_count": 35,
   "metadata": {},
   "outputs": [],
   "source": [
    "# Load the inflated file data\n",
    "f = open(r'shipsnet.json')\n",
    "dataset = json.load(f)\n",
    "f.close()\n",
    "\n",
    "# The input_data is a layer that will be used as the input layer to your network. \n",
    "input_data = np.array(dataset['data']).astype('uint8')\n",
    "output_data = np.array(dataset['labels']).astype('uint8')"
   ]
  },
  {
   "cell_type": "code",
   "execution_count": 46,
   "metadata": {},
   "outputs": [
    {
     "data": {
      "text/plain": [
       "(4000, 19200)"
      ]
     },
     "execution_count": 46,
     "metadata": {},
     "output_type": "execute_result"
    }
   ],
   "source": [
    "# Because the training data is known and labelled, the input_data contains over 4000 images images \n",
    "# Each image is represented in a 19200 vector length\n",
    "input_data.shape"
   ]
  },
  {
   "cell_type": "code",
   "execution_count": 81,
   "metadata": {},
   "outputs": [
    {
     "data": {
      "text/plain": [
       "array([3000, 1000])"
      ]
     },
     "execution_count": 81,
     "metadata": {},
     "output_type": "execute_result"
    }
   ],
   "source": [
    "# How many images are ships vs. not ships; 0 = no ship; # 1 = tagged \"ship\"\n",
    "# 3000 = no-ship \n",
    "# 1000 = ship\n",
    "np.bincount(output_data)"
   ]
  },
  {
   "cell_type": "code",
   "execution_count": 50,
   "metadata": {},
   "outputs": [
    {
     "data": {
      "text/plain": [
       "dtype('uint8')"
      ]
     },
     "execution_count": 50,
     "metadata": {},
     "output_type": "execute_result"
    }
   ],
   "source": [
    "# images are represented as a collection of unsigned 8-bit integer values between 0 and 255\n",
    "input_data.dtype"
   ]
  },
  {
   "cell_type": "code",
   "execution_count": 55,
   "metadata": {},
   "outputs": [
    {
     "data": {
      "text/plain": [
       "1"
      ]
     },
     "execution_count": 55,
     "metadata": {},
     "output_type": "execute_result"
    }
   ],
   "source": [
    "# images range min value\n",
    "input_data.min()"
   ]
  },
  {
   "cell_type": "code",
   "execution_count": 56,
   "metadata": {},
   "outputs": [
    {
     "data": {
      "text/plain": [
       "255"
      ]
     },
     "execution_count": 56,
     "metadata": {},
     "output_type": "execute_result"
    }
   ],
   "source": [
    "# image range max value\n",
    "input_data.max()"
   ]
  },
  {
   "cell_type": "code",
   "execution_count": 57,
   "metadata": {},
   "outputs": [
    {
     "data": {
      "text/plain": [
       "array([82, 89, 91, ..., 86, 88, 89], dtype=uint8)"
      ]
     },
     "execution_count": 57,
     "metadata": {},
     "output_type": "execute_result"
    }
   ],
   "source": [
    "# A different printout of the input_data array\n",
    "input_data[0]"
   ]
  },
  {
   "cell_type": "markdown",
   "metadata": {},
   "source": [
    "### Visualize the data\n",
    "\n",
    "JSON data is great for enabling a computer to see the images, it's not so easy for a human.  We can reshape the data in order to get a better understanding. This is also done to convert multi-dimensional images to a vector."
   ]
  },
  {
   "cell_type": "code",
   "execution_count": 73,
   "metadata": {},
   "outputs": [
    {
     "data": {
      "image/png": "[encoded data removed]",
      "text/plain": [
       "<Figure size 1080x360 with 3 Axes>"
      ]
     },
     "metadata": {
      "needs_background": "light"
     },
     "output_type": "display_data"
    }
   ],
   "source": [
    "n_spectrum = 3 # RGB color channels\n",
    "weight = 80 # 80 x 80 image\n",
    "height = 80\n",
    "X = input_data.reshape([-1, n_spectrum, weight, height])\n",
    "X[0].shape\n",
    "\n",
    "# Dataset image\n",
    "pic = X[3] # << CHANGE VALUE TO PLOT DIFF IMAGES\n",
    "\n",
    "red_spectrum = pic[0]\n",
    "green_spectrum = pic[1]\n",
    "blue_spectrum = pic[2]\n",
    "\n",
    "plt.figure(2, figsize = (5*3, 5*1))\n",
    "plt.set_cmap('jet')\n",
    "\n",
    "# Plot each RGB channel\n",
    "plt.subplot(1, 3, 1)\n",
    "plt.imshow(red_spectrum)\n",
    "plt.subplot(1, 3, 2)\n",
    "plt.imshow(green_spectrum)\n",
    "plt.subplot(1, 3, 3)\n",
    "plt.imshow(blue_spectrum)\n",
    "plt.show()"
   ]
  },
  {
   "cell_type": "markdown",
   "metadata": {},
   "source": [
    "## Create training data\n",
    "\n",
    "Keras provides a utility to categorically encode values."
   ]
  },
  {
   "cell_type": "code",
   "execution_count": 83,
   "metadata": {},
   "outputs": [],
   "source": [
    "# Categorically encode the labels\n",
    "y = np_utils.to_categorical(output_data, 2)"
   ]
  },
  {
   "cell_type": "code",
   "execution_count": 85,
   "metadata": {},
   "outputs": [],
   "source": [
    "# Shuffle the indexes so the model doesn't learn the data per vector\n",
    "indexes = np.arange(4000)\n",
    "np.random.shuffle(indexes)"
   ]
  },
  {
   "cell_type": "code",
   "execution_count": 86,
   "metadata": {},
   "outputs": [],
   "source": [
    "# Create the training data\n",
    "X_train = X[indexes].transpose([0,2,3,1])\n",
    "y_train = y[indexes]"
   ]
  },
  {
   "cell_type": "code",
   "execution_count": 94,
   "metadata": {},
   "outputs": [
    {
     "data": {
      "text/plain": [
       "array([[[[1.        , 0.96078431, 0.9372549 ],\n",
       "         [1.        , 0.96078431, 0.94117647],\n",
       "         [1.        , 0.96078431, 0.94117647],\n",
       "         ...,\n",
       "         [0.79607843, 0.77254902, 0.70196078],\n",
       "         [0.80392157, 0.76078431, 0.67058824],\n",
       "         [0.85098039, 0.77647059, 0.6627451 ]],\n",
       "\n",
       "        [[1.        , 0.96470588, 0.91764706],\n",
       "         [1.        , 0.96078431, 0.93333333],\n",
       "         [1.        , 0.96078431, 0.9372549 ],\n",
       "         ...,\n",
       "         [0.59607843, 0.56470588, 0.4745098 ],\n",
       "         [0.56078431, 0.52941176, 0.40784314],\n",
       "         [0.6627451 , 0.59607843, 0.4627451 ]],\n",
       "\n",
       "        [[0.96862745, 0.90980392, 0.83137255],\n",
       "         [1.        , 0.95294118, 0.90196078],\n",
       "         [1.        , 0.95686275, 0.91764706],\n",
       "         ...,\n",
       "         [0.3254902 , 0.31764706, 0.24313725],\n",
       "         [0.38039216, 0.35294118, 0.24705882],\n",
       "         [0.4745098 , 0.42352941, 0.32156863]],\n",
       "\n",
       "        ...,\n",
       "\n",
       "        [[0.85490196, 0.82352941, 0.76862745],\n",
       "         [0.7372549 , 0.70588235, 0.62745098],\n",
       "         [0.65882353, 0.60784314, 0.52941176],\n",
       "         ...,\n",
       "         [0.77254902, 0.69411765, 0.61960784],\n",
       "         [0.84313725, 0.76078431, 0.69411765],\n",
       "         [0.75686275, 0.69019608, 0.61176471]],\n",
       "\n",
       "        [[0.89411765, 0.85098039, 0.80392157],\n",
       "         [0.82352941, 0.78039216, 0.70196078],\n",
       "         [0.70588235, 0.64313725, 0.55686275],\n",
       "         ...,\n",
       "         [0.77254902, 0.70196078, 0.61960784],\n",
       "         [0.86666667, 0.78823529, 0.7254902 ],\n",
       "         [0.81176471, 0.73333333, 0.64313725]],\n",
       "\n",
       "        [[0.8       , 0.76470588, 0.68235294],\n",
       "         [0.83921569, 0.78431373, 0.70196078],\n",
       "         [0.70196078, 0.63921569, 0.55294118],\n",
       "         ...,\n",
       "         [0.78431373, 0.72156863, 0.63921569],\n",
       "         [0.88235294, 0.80392157, 0.72941176],\n",
       "         [0.81568627, 0.74509804, 0.65490196]]],\n",
       "\n",
       "\n",
       "       [[[0.55686275, 0.50980392, 0.44313725],\n",
       "         [0.61176471, 0.54509804, 0.46666667],\n",
       "         [0.65882353, 0.58431373, 0.50980392],\n",
       "         ...,\n",
       "         [0.36470588, 0.32156863, 0.25490196],\n",
       "         [0.38431373, 0.34901961, 0.28627451],\n",
       "         [0.51764706, 0.47843137, 0.41568627]],\n",
       "\n",
       "        [[0.65490196, 0.59215686, 0.5372549 ],\n",
       "         [0.6627451 , 0.60392157, 0.52941176],\n",
       "         [0.6627451 , 0.60392157, 0.52941176],\n",
       "         ...,\n",
       "         [0.37254902, 0.33333333, 0.25098039],\n",
       "         [0.41176471, 0.36862745, 0.28627451],\n",
       "         [0.54509804, 0.48627451, 0.41176471]],\n",
       "\n",
       "        [[0.70980392, 0.65098039, 0.59215686],\n",
       "         [0.74901961, 0.68627451, 0.61960784],\n",
       "         [0.71372549, 0.65882353, 0.59215686],\n",
       "         ...,\n",
       "         [0.46666667, 0.43529412, 0.35294118],\n",
       "         [0.4627451 , 0.42745098, 0.35294118],\n",
       "         [0.56078431, 0.50980392, 0.43529412]],\n",
       "\n",
       "        ...,\n",
       "\n",
       "        [[0.55686275, 0.51764706, 0.46666667],\n",
       "         [0.74117647, 0.68627451, 0.62745098],\n",
       "         [0.91372549, 0.84705882, 0.79215686],\n",
       "         ...,\n",
       "         [0.70980392, 0.65098039, 0.56862745],\n",
       "         [0.91372549, 0.83529412, 0.78823529],\n",
       "         [0.98431373, 0.90980392, 0.8627451 ]],\n",
       "\n",
       "        [[0.44705882, 0.41568627, 0.37647059],\n",
       "         [0.57254902, 0.51764706, 0.45882353],\n",
       "         [0.65490196, 0.59215686, 0.52156863],\n",
       "         ...,\n",
       "         [0.67058824, 0.62745098, 0.55686275],\n",
       "         [0.95294118, 0.89411765, 0.84705882],\n",
       "         [1.        , 0.95686275, 0.92156863]],\n",
       "\n",
       "        [[0.25882353, 0.25098039, 0.21176471],\n",
       "         [0.2627451 , 0.24705882, 0.21960784],\n",
       "         [0.28627451, 0.27058824, 0.23529412],\n",
       "         ...,\n",
       "         [0.78039216, 0.72156863, 0.62352941],\n",
       "         [0.99607843, 0.93333333, 0.87843137],\n",
       "         [1.        , 0.95294118, 0.91764706]]],\n",
       "\n",
       "\n",
       "       [[[0.45098039, 0.44313725, 0.42352941],\n",
       "         [0.43529412, 0.43137255, 0.40784314],\n",
       "         [0.43137255, 0.43137255, 0.41176471],\n",
       "         ...,\n",
       "         [0.43921569, 0.44313725, 0.42352941],\n",
       "         [0.43137255, 0.43529412, 0.40784314],\n",
       "         [0.42352941, 0.42745098, 0.4       ]],\n",
       "\n",
       "        [[0.44313725, 0.43921569, 0.41568627],\n",
       "         [0.43529412, 0.43529412, 0.41176471],\n",
       "         [0.44313725, 0.44313725, 0.41960784],\n",
       "         ...,\n",
       "         [0.44705882, 0.45490196, 0.42745098],\n",
       "         [0.44313725, 0.45098039, 0.42352941],\n",
       "         [0.41176471, 0.42352941, 0.38823529]],\n",
       "\n",
       "        [[0.41568627, 0.42352941, 0.4       ],\n",
       "         [0.41960784, 0.43137255, 0.40392157],\n",
       "         [0.43921569, 0.44705882, 0.41960784],\n",
       "         ...,\n",
       "         [0.45882353, 0.47058824, 0.43921569],\n",
       "         [0.45882353, 0.4627451 , 0.43529412],\n",
       "         [0.41960784, 0.43137255, 0.39607843]],\n",
       "\n",
       "        ...,\n",
       "\n",
       "        [[0.4       , 0.41176471, 0.38431373],\n",
       "         [0.38823529, 0.40392157, 0.37254902],\n",
       "         [0.38431373, 0.40784314, 0.37254902],\n",
       "         ...,\n",
       "         [0.44313725, 0.45490196, 0.43137255],\n",
       "         [0.43921569, 0.45098039, 0.42745098],\n",
       "         [0.43529412, 0.44313725, 0.41960784]],\n",
       "\n",
       "        [[0.36862745, 0.38823529, 0.36470588],\n",
       "         [0.40392157, 0.41568627, 0.38431373],\n",
       "         [0.41176471, 0.42745098, 0.38823529],\n",
       "         ...,\n",
       "         [0.44313725, 0.45490196, 0.42745098],\n",
       "         [0.44313725, 0.45098039, 0.42352941],\n",
       "         [0.43137255, 0.43921569, 0.41176471]],\n",
       "\n",
       "        [[0.38823529, 0.4       , 0.37254902],\n",
       "         [0.42745098, 0.43921569, 0.40392157],\n",
       "         [0.45882353, 0.4627451 , 0.42352941],\n",
       "         ...,\n",
       "         [0.41960784, 0.43137255, 0.40392157],\n",
       "         [0.43529412, 0.44313725, 0.41568627],\n",
       "         [0.41176471, 0.41960784, 0.38823529]]],\n",
       "\n",
       "\n",
       "       ...,\n",
       "\n",
       "\n",
       "       [[[0.46666667, 0.54509804, 0.5372549 ],\n",
       "         [0.47058824, 0.55294118, 0.54901961],\n",
       "         [0.48627451, 0.57254902, 0.57254902],\n",
       "         ...,\n",
       "         [0.44705882, 0.5372549 , 0.5254902 ],\n",
       "         [0.44705882, 0.53333333, 0.52941176],\n",
       "         [0.45882353, 0.54901961, 0.54509804]],\n",
       "\n",
       "        [[0.45490196, 0.5372549 , 0.52941176],\n",
       "         [0.4627451 , 0.54509804, 0.5372549 ],\n",
       "         [0.45882353, 0.54509804, 0.5372549 ],\n",
       "         ...,\n",
       "         [0.45098039, 0.54117647, 0.53333333],\n",
       "         [0.45098039, 0.54117647, 0.53333333],\n",
       "         [0.45882353, 0.54509804, 0.54117647]],\n",
       "\n",
       "        [[0.46666667, 0.55294118, 0.54509804],\n",
       "         [0.49019608, 0.57647059, 0.57254902],\n",
       "         [0.47843137, 0.56078431, 0.56078431],\n",
       "         ...,\n",
       "         [0.45490196, 0.54509804, 0.5372549 ],\n",
       "         [0.45098039, 0.54117647, 0.52941176],\n",
       "         [0.45490196, 0.54117647, 0.52941176]],\n",
       "\n",
       "        ...,\n",
       "\n",
       "        [[0.4627451 , 0.5372549 , 0.53333333],\n",
       "         [0.45882353, 0.52941176, 0.5254902 ],\n",
       "         [0.45490196, 0.5254902 , 0.5254902 ],\n",
       "         ...,\n",
       "         [0.45882353, 0.5372549 , 0.54117647],\n",
       "         [0.46666667, 0.54509804, 0.54901961],\n",
       "         [0.47058824, 0.54901961, 0.55294118]],\n",
       "\n",
       "        [[0.46666667, 0.5372549 , 0.5372549 ],\n",
       "         [0.47058824, 0.54117647, 0.54509804],\n",
       "         [0.46666667, 0.5372549 , 0.54117647],\n",
       "         ...,\n",
       "         [0.45882353, 0.54117647, 0.54117647],\n",
       "         [0.46666667, 0.54509804, 0.54901961],\n",
       "         [0.45882353, 0.5372549 , 0.54117647]],\n",
       "\n",
       "        [[0.45882353, 0.5372549 , 0.53333333],\n",
       "         [0.46666667, 0.5372549 , 0.54117647],\n",
       "         [0.46666667, 0.53333333, 0.54117647],\n",
       "         ...,\n",
       "         [0.45882353, 0.54117647, 0.54117647],\n",
       "         [0.45882353, 0.5372549 , 0.54117647],\n",
       "         [0.45490196, 0.52941176, 0.53333333]]],\n",
       "\n",
       "\n",
       "       [[[0.19607843, 0.25490196, 0.21176471],\n",
       "         [0.21568627, 0.28235294, 0.23137255],\n",
       "         [0.22352941, 0.29019608, 0.24705882],\n",
       "         ...,\n",
       "         [0.20784314, 0.25882353, 0.22745098],\n",
       "         [0.21568627, 0.27058824, 0.24313725],\n",
       "         [0.22352941, 0.27843137, 0.25098039]],\n",
       "\n",
       "        [[0.20392157, 0.27058824, 0.22745098],\n",
       "         [0.21568627, 0.28627451, 0.23529412],\n",
       "         [0.21960784, 0.29019608, 0.24313725],\n",
       "         ...,\n",
       "         [0.21568627, 0.26666667, 0.23137255],\n",
       "         [0.21960784, 0.27058824, 0.23921569],\n",
       "         [0.22352941, 0.27843137, 0.24705882]],\n",
       "\n",
       "        [[0.19215686, 0.26666667, 0.22745098],\n",
       "         [0.2       , 0.2745098 , 0.22352941],\n",
       "         [0.21568627, 0.28627451, 0.23921569],\n",
       "         ...,\n",
       "         [0.23137255, 0.28627451, 0.25098039],\n",
       "         [0.22352941, 0.27843137, 0.24313725],\n",
       "         [0.21960784, 0.2745098 , 0.24313725]],\n",
       "\n",
       "        ...,\n",
       "\n",
       "        [[0.21960784, 0.28627451, 0.24313725],\n",
       "         [0.22352941, 0.29019608, 0.24705882],\n",
       "         [0.22745098, 0.28235294, 0.24313725],\n",
       "         ...,\n",
       "         [0.18823529, 0.25490196, 0.21960784],\n",
       "         [0.2       , 0.27058824, 0.23921569],\n",
       "         [0.20784314, 0.27843137, 0.24705882]],\n",
       "\n",
       "        [[0.23137255, 0.29411765, 0.25098039],\n",
       "         [0.25098039, 0.31372549, 0.27058824],\n",
       "         [0.23137255, 0.28627451, 0.25098039],\n",
       "         ...,\n",
       "         [0.20392157, 0.27058824, 0.23921569],\n",
       "         [0.20784314, 0.2745098 , 0.24313725],\n",
       "         [0.20784314, 0.27843137, 0.25098039]],\n",
       "\n",
       "        [[0.21568627, 0.27843137, 0.24313725],\n",
       "         [0.22745098, 0.28235294, 0.24705882],\n",
       "         [0.21960784, 0.2745098 , 0.24313725],\n",
       "         ...,\n",
       "         [0.20392157, 0.27058824, 0.24313725],\n",
       "         [0.20784314, 0.27843137, 0.24705882],\n",
       "         [0.2       , 0.27058824, 0.23921569]]],\n",
       "\n",
       "\n",
       "       [[[0.27058824, 0.22352941, 0.15294118],\n",
       "         [0.3254902 , 0.26666667, 0.18823529],\n",
       "         [0.48627451, 0.37254902, 0.2745098 ],\n",
       "         ...,\n",
       "         [0.38431373, 0.32941176, 0.25882353],\n",
       "         [0.39215686, 0.3372549 , 0.25490196],\n",
       "         [0.39215686, 0.3372549 , 0.25098039]],\n",
       "\n",
       "        [[0.25098039, 0.20784314, 0.1372549 ],\n",
       "         [0.27843137, 0.22352941, 0.15686275],\n",
       "         [0.37647059, 0.29019608, 0.21176471],\n",
       "         ...,\n",
       "         [0.42352941, 0.36078431, 0.27843137],\n",
       "         [0.41960784, 0.35686275, 0.27058824],\n",
       "         [0.39215686, 0.3372549 , 0.25098039]],\n",
       "\n",
       "        [[0.17254902, 0.1372549 , 0.08627451],\n",
       "         [0.15686275, 0.12941176, 0.08235294],\n",
       "         [0.16470588, 0.13333333, 0.08627451],\n",
       "         ...,\n",
       "         [0.52156863, 0.43529412, 0.34117647],\n",
       "         [0.5254902 , 0.43921569, 0.34509804],\n",
       "         [0.44705882, 0.37254902, 0.2745098 ]],\n",
       "\n",
       "        ...,\n",
       "\n",
       "        [[0.44313725, 0.38823529, 0.29803922],\n",
       "         [0.36470588, 0.3254902 , 0.25490196],\n",
       "         [0.30980392, 0.28235294, 0.21568627],\n",
       "         ...,\n",
       "         [0.39215686, 0.29019608, 0.20392157],\n",
       "         [0.48235294, 0.34509804, 0.25098039],\n",
       "         [0.55686275, 0.40392157, 0.30196078]],\n",
       "\n",
       "        [[0.3372549 , 0.30196078, 0.21960784],\n",
       "         [0.25098039, 0.23137255, 0.16470588],\n",
       "         [0.25490196, 0.23921569, 0.17254902],\n",
       "         ...,\n",
       "         [0.40392157, 0.29803922, 0.21176471],\n",
       "         [0.51764706, 0.37254902, 0.26666667],\n",
       "         [0.56078431, 0.41176471, 0.30588235]],\n",
       "\n",
       "        [[0.3254902 , 0.29019608, 0.20784314],\n",
       "         [0.19607843, 0.18431373, 0.12156863],\n",
       "         [0.21568627, 0.20784314, 0.14117647],\n",
       "         ...,\n",
       "         [0.42745098, 0.31764706, 0.23137255],\n",
       "         [0.55294118, 0.4       , 0.29803922],\n",
       "         [0.59215686, 0.43529412, 0.32941176]]]])"
      ]
     },
     "execution_count": 94,
     "metadata": {},
     "output_type": "execute_result"
    }
   ],
   "source": [
    "# Here are the first 2 values of the training labels, which you can see have now been categorically encoded:\n",
    "X_train[0:1]"
   ]
  },
  {
   "cell_type": "markdown",
   "metadata": {},
   "source": [
    "## Normalize the data \n",
    "\n",
    "Deep learning models operator better with floating point numbers between 0 and 1. RGB  values range from 0 to 255, so dividing all the pixel values of an image by 255 converts integer values to floating point values between 0 and 1 is called normalization. "
   ]
  },
  {
   "cell_type": "code",
   "execution_count": 87,
   "metadata": {},
   "outputs": [],
   "source": [
    "# Normalize the RGB data\n",
    "X_train = X_train / 255"
   ]
  },
  {
   "cell_type": "code",
   "execution_count": 89,
   "metadata": {},
   "outputs": [
    {
     "data": {
      "text/plain": [
       "dtype('float64')"
      ]
     },
     "execution_count": 89,
     "metadata": {},
     "output_type": "execute_result"
    }
   ],
   "source": [
    "# Converted data type\n",
    "X_train.dtype"
   ]
  },
  {
   "cell_type": "code",
   "execution_count": 90,
   "metadata": {},
   "outputs": [
    {
     "data": {
      "text/plain": [
       "0.00392156862745098"
      ]
     },
     "execution_count": 90,
     "metadata": {},
     "output_type": "execute_result"
    }
   ],
   "source": [
    "# Image range min value\n",
    "X_train.min()"
   ]
  },
  {
   "cell_type": "code",
   "execution_count": 91,
   "metadata": {},
   "outputs": [
    {
     "data": {
      "text/plain": [
       "1.0"
      ]
     },
     "execution_count": 91,
     "metadata": {},
     "output_type": "execute_result"
    }
   ],
   "source": [
    "# Image range max value\n",
    "X_train.max()"
   ]
  },
  {
   "cell_type": "markdown",
   "metadata": {},
   "source": [
    "## Create the Model\n",
    "\n",
    "A Sequential model is appropriate for a plain stack of layers where each layer has exactly one input tensor and one output tensor. A Sequential model is not appropriate when:\n",
    "\n",
    "Your model has multiple inputs or multiple outputs\n",
    "Any of your layers has multiple inputs or multiple outputs\n",
    "You need to do layer sharing\n",
    "You want non-linear topology (e.g. a residual connection, a multi-branch model)\n",
    "\n",
    "Source: https://www.tensorflow.org/guide/keras/sequential_model"
   ]
  },
  {
   "cell_type": "code",
   "execution_count": 98,
   "metadata": {},
   "outputs": [],
   "source": [
    "# Initialize a random seed function to determine the sequence of random numbers. This helps with simulating and modelling\n",
    "np.random.seed(42)"
   ]
  },
  {
   "cell_type": "code",
   "execution_count": 99,
   "metadata": {},
   "outputs": [],
   "source": [
    "# Model Design and Layers\n",
    "model = Sequential()"
   ]
  },
  {
   "cell_type": "markdown",
   "metadata": {},
   "source": [
    "### Model Layers and Algorithms\n",
    "\n",
    "Choosing the correct number of neurons is what puts the \"science\" in \"data science\" as it is a matter of capturing the statistical complexity of the dataset. \n",
    "\n",
    "Conv2D\n",
    "Padding\n",
    "Input Shape\n",
    "Activation Function = relu\n",
    "MaxPooling2D\n",
    "Dropout"
   ]
  },
  {
   "cell_type": "code",
   "execution_count": 100,
   "metadata": {},
   "outputs": [],
   "source": [
    "# Input Layer\n",
    "model.add(Conv2D(32, (3, 3), padding='same', input_shape=(80, 80, 3), activation='relu'))\n",
    "model.add(MaxPooling2D(pool_size=(2, 2))) #40x40\n",
    "model.add(Dropout(0.25))\n",
    "\n",
    "# Hidden Layers\n",
    "\n",
    "model.add(Conv2D(32, (3, 3), padding='same', activation='relu'))\n",
    "model.add(MaxPooling2D(pool_size=(2, 2))) #20x20\n",
    "model.add(Dropout(0.25))\n",
    "\n",
    "model.add(Conv2D(32, (3, 3), padding='same', activation='relu'))\n",
    "model.add(MaxPooling2D(pool_size=(2, 2))) #10x10\n",
    "model.add(Dropout(0.25))\n",
    "\n",
    "model.add(Conv2D(32, (10, 10), padding='same', activation='relu'))\n",
    "model.add(MaxPooling2D(pool_size=(2, 2))) #5x5\n",
    "model.add(Dropout(0.25))\n",
    "\n",
    "model.add(Flatten())\n",
    "model.add(Dense(512, activation='relu'))\n",
    "model.add(Dropout(0.5))\n",
    "\n",
    "# Output Layer - This layer uses the activation function softmax which will result in each of the layer's values being a probability between 0 and 1 and will result in all the outputs of the layer adding to 1. In this case, since the network is to make a guess about a single image belonging to 1 of 10 possible categories, there will be 10 outputs.\n",
    "model.add(Dense(2, activation='softmax'))"
   ]
  },
  {
   "cell_type": "markdown",
   "metadata": {},
   "source": [
    "### Summarize the Model\n",
    "\n",
    "Keras provides the model instance method summary which will print a readable summary of a model:"
   ]
  },
  {
   "cell_type": "code",
   "execution_count": 101,
   "metadata": {},
   "outputs": [
    {
     "name": "stdout",
     "output_type": "stream",
     "text": [
      "Model: \"sequential_1\"\n",
      "_________________________________________________________________\n",
      "Layer (type)                 Output Shape              Param #   \n",
      "=================================================================\n",
      "conv2d_5 (Conv2D)            (None, 80, 80, 32)        896       \n",
      "_________________________________________________________________\n",
      "max_pooling2d_4 (MaxPooling2 (None, 40, 40, 32)        0         \n",
      "_________________________________________________________________\n",
      "dropout_5 (Dropout)          (None, 40, 40, 32)        0         \n",
      "_________________________________________________________________\n",
      "conv2d_6 (Conv2D)            (None, 40, 40, 32)        9248      \n",
      "_________________________________________________________________\n",
      "max_pooling2d_5 (MaxPooling2 (None, 20, 20, 32)        0         \n",
      "_________________________________________________________________\n",
      "dropout_6 (Dropout)          (None, 20, 20, 32)        0         \n",
      "_________________________________________________________________\n",
      "conv2d_7 (Conv2D)            (None, 20, 20, 32)        9248      \n",
      "_________________________________________________________________\n",
      "max_pooling2d_6 (MaxPooling2 (None, 10, 10, 32)        0         \n",
      "_________________________________________________________________\n",
      "dropout_7 (Dropout)          (None, 10, 10, 32)        0         \n",
      "_________________________________________________________________\n",
      "conv2d_8 (Conv2D)            (None, 10, 10, 32)        102432    \n",
      "_________________________________________________________________\n",
      "max_pooling2d_7 (MaxPooling2 (None, 5, 5, 32)          0         \n",
      "_________________________________________________________________\n",
      "dropout_8 (Dropout)          (None, 5, 5, 32)          0         \n",
      "_________________________________________________________________\n",
      "flatten_1 (Flatten)          (None, 800)               0         \n",
      "_________________________________________________________________\n",
      "dense_2 (Dense)              (None, 512)               410112    \n",
      "_________________________________________________________________\n",
      "dropout_9 (Dropout)          (None, 512)               0         \n",
      "_________________________________________________________________\n",
      "dense_3 (Dense)              (None, 2)                 1026      \n",
      "=================================================================\n",
      "Total params: 532,962\n",
      "Trainable params: 532,962\n",
      "Non-trainable params: 0\n",
      "_________________________________________________________________\n"
     ]
    }
   ],
   "source": [
    "model.summary()"
   ]
  },
  {
   "cell_type": "markdown",
   "metadata": {},
   "source": [
    "### Compile the Model\n",
    "\n",
    "Before we can actually train our model with data is to compile it. We use a loss function to help the model understand how well it is performing during training. We also specify that we would like to track accuracy while the model trains."
   ]
  },
  {
   "cell_type": "code",
   "execution_count": 106,
   "metadata": {},
   "outputs": [
    {
     "ename": "NameError",
     "evalue": "name 'adams' is not defined",
     "output_type": "error",
     "traceback": [
      "\u001b[0;31m---------------------------------------------------------------------------\u001b[0m",
      "\u001b[0;31mNameError\u001b[0m                                 Traceback (most recent call last)",
      "\u001b[0;32m<ipython-input-106-0b114e25a5a2>\u001b[0m in \u001b[0;36m<module>\u001b[0;34m\u001b[0m\n\u001b[1;32m      3\u001b[0m model.compile(\n\u001b[1;32m      4\u001b[0m     \u001b[0mloss\u001b[0m\u001b[0;34m=\u001b[0m\u001b[0;34m'categorical_crossentropy'\u001b[0m\u001b[0;34m,\u001b[0m\u001b[0;34m\u001b[0m\u001b[0;34m\u001b[0m\u001b[0m\n\u001b[0;32m----> 5\u001b[0;31m     \u001b[0moptimizer\u001b[0m\u001b[0;34m=\u001b[0m\u001b[0madams\u001b[0m\u001b[0;34m,\u001b[0m\u001b[0;34m\u001b[0m\u001b[0;34m\u001b[0m\u001b[0m\n\u001b[0m\u001b[1;32m      6\u001b[0m     metrics=['accuracy'])\n",
      "\u001b[0;31mNameError\u001b[0m: name 'adams' is not defined"
     ]
    }
   ],
   "source": [
    "# optimization setup\n",
    "sgd = SGD(lr=0.01, momentum=0.9, nesterov=True)\n",
    "model.compile(\n",
    "    loss='categorical_crossentropy',\n",
    "    optimizer=sgd,\n",
    "    metrics=['accuracy'])"
   ]
  },
  {
   "cell_type": "markdown",
   "metadata": {},
   "source": [
    "### Train the Model\n",
    "\n",
    "Now that we have prepared training data, and a model, it's time to train our model with our training data, and verify it with its validation data. When fitting (training) a model with Keras, we use the model's fit method. It expects the following arguments:\n",
    "\n",
    "The training data\n",
    "The labels for the training data\n",
    "The number of times it should train on the entire training dataset (called an epoch)\n",
    "The validation or test data, and its labels"
   ]
  },
  {
   "cell_type": "code",
   "execution_count": 105,
   "metadata": {},
   "outputs": [
    {
     "name": "stdout",
     "output_type": "stream",
     "text": [
      "Epoch 1/10\n",
      "100/100 - 5s - loss: 0.0244 - accuracy: 0.9925 - val_loss: 0.0584 - val_accuracy: 0.9900\n",
      "Epoch 2/10\n",
      "100/100 - 5s - loss: 0.0138 - accuracy: 0.9956 - val_loss: 0.0864 - val_accuracy: 0.9812\n",
      "Epoch 3/10\n",
      "100/100 - 5s - loss: 0.0245 - accuracy: 0.9922 - val_loss: 0.0706 - val_accuracy: 0.9825\n",
      "Epoch 4/10\n",
      "100/100 - 6s - loss: 0.0233 - accuracy: 0.9931 - val_loss: 0.1135 - val_accuracy: 0.9688\n",
      "Epoch 5/10\n",
      "100/100 - 5s - loss: 0.0269 - accuracy: 0.9916 - val_loss: 0.0779 - val_accuracy: 0.9800\n",
      "Epoch 6/10\n",
      "100/100 - 5s - loss: 0.0168 - accuracy: 0.9950 - val_loss: 0.0806 - val_accuracy: 0.9800\n",
      "Epoch 7/10\n",
      "100/100 - 6s - loss: 0.0184 - accuracy: 0.9941 - val_loss: 0.0884 - val_accuracy: 0.9787\n",
      "Epoch 8/10\n",
      "100/100 - 5s - loss: 0.0180 - accuracy: 0.9937 - val_loss: 0.0754 - val_accuracy: 0.9812\n",
      "Epoch 9/10\n",
      "100/100 - 6s - loss: 0.0229 - accuracy: 0.9934 - val_loss: 0.0933 - val_accuracy: 0.9800\n",
      "Epoch 10/10\n",
      "100/100 - 6s - loss: 0.0128 - accuracy: 0.9956 - val_loss: 0.0773 - val_accuracy: 0.9800\n"
     ]
    },
    {
     "data": {
      "text/plain": [
       "<tensorflow.python.keras.callbacks.History at 0x7ff9cc8e29b0>"
      ]
     },
     "execution_count": 105,
     "metadata": {},
     "output_type": "execute_result"
    }
   ],
   "source": [
    "# training\n",
    "# here are all of the arguments you could pass to improve training https://keras.io/api/models/model_training_apis/#fit-method\n",
    "model.fit(\n",
    "    X_train, \n",
    "    y_train,\n",
    "    batch_size=32, # Number of samples per gradient update. If unspecified, batch_size will default to 32.\n",
    "    epochs=5, # An epoch is an iteration over the entire x and y data provided.\n",
    "    validation_split=0.2, # Float between 0 and 1. Fraction of the training data to be used as validation data. The model will set apart this fraction of the training data, will not train on it, and will evaluate the loss and any model metrics on this data at the end of each epoch.\n",
    "    shuffle=True, # Boolean (whether to shuffle the training data before each epoch) \n",
    "    verbose=2) # Verbosity mode. 0 = silent, 1 = progress bar, 2 = one line per epoch."
   ]
  },
  {
   "cell_type": "code",
   "execution_count": null,
   "metadata": {},
   "outputs": [],
   "source": [
    "# Returns the loss value & metrics values for the model in test mode.\n",
    "# Arguments found https://keras.io/api/models/model_training_apis/#evaluate-method\n",
    "model.evaluate(\n",
    "    X_train, \n",
    "    y_train,\n",
    "    batch_size=32,\n",
    "    verbose=2,\n",
    "    sample_weight=None,\n",
    "    steps=None,\n",
    "    callbacks=None,\n",
    "    max_queue_size=None,\n",
    "    workers=1,\n",
    "    use_multiprocessing=False,\n",
    "    return_dict=False,\n",
    ")"
   ]
  },
  {
   "cell_type": "code",
   "execution_count": null,
   "metadata": {},
   "outputs": [],
   "source": [
    "# Generates output predictions for the input samples. \n",
    "# Arguments found https://keras.io/api/models/model_training_apis/#predict-method\n",
    "\n",
    "model.predict(\n",
    "    X_train,\n",
    "    batch_size=None,\n",
    "    verbose=0,\n",
    "    steps=None,\n",
    "    callbacks=None,\n",
    "    max_queue_size=10,\n",
    "    workers=1,\n",
    "    use_multiprocessing=False,\n",
    ")"
   ]
  },
  {
   "cell_type": "markdown",
   "metadata": {},
   "source": [
    "## Observing Accuracy\n",
    "\n",
    "\n",
    "For each of the epochs, \n",
    "- accuracy = how well the model did for the epoch on all the training data. \n",
    "- val_accuracy = how well the model did on the validation data, which if you recall, was not used at all for training the model.\n",
    "\n",
    "With a validation accuracy over 92%, we are ready to deploy this model to detect objects on unseen satellite imagery or \"Inference\"."
   ]
  },
  {
   "cell_type": "markdown",
   "metadata": {},
   "source": [
    "# Save the Model\n",
    "\n",
    "With a well trained model, saved to disk for this scenario, we can deploy it to make predictions in other notebooks."
   ]
  },
  {
   "cell_type": "code",
   "execution_count": 137,
   "metadata": {},
   "outputs": [],
   "source": [
    "# Save the model methods\n",
    "# Arguments found https://keras.io/api/models/model_saving_apis/\n",
    "\n",
    "model.save(\n",
    "    '../../models/ships_model',\n",
    "    overwrite=True, # Whether to silently overwrite any existing file at the target location\n",
    "    save_format=tf, # Either 'tf' or 'h5', indicating whether to save the model to Tensorflow SavedModel or HDF5.\n",
    ")"
   ]
  },
  {
   "cell_type": "code",
   "execution_count": null,
   "metadata": {},
   "outputs": [],
   "source": [
    "## House keeping item to clear memory\n",
    "import IPython\n",
    "app = IPython.Application.instance()\n",
    "app.kernel.do_shutdown(True)"
   ]
  }
 ],
 "metadata": {
  "kernelspec": {
   "display_name": "Python 3",
   "language": "python",
   "name": "python3"
  },
  "language_info": {
   "codemirror_mode": {
    "name": "ipython",
    "version": 3
   },
   "file_extension": ".py",
   "mimetype": "text/x-python",
   "name": "python",
   "nbconvert_exporter": "python",
   "pygments_lexer": "ipython3",
   "version": "3.6.8"
  }
 },
 "nbformat": 4,
 "nbformat_minor": 2
}